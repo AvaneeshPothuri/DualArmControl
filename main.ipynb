{
 "cells": [
  {
   "cell_type": "markdown",
   "metadata": {},
   "source": [
    "# Setup"
   ]
  },
  {
   "cell_type": "markdown",
   "metadata": {},
   "source": [
    "## Import Poppy\n"
   ]
  },
  {
   "cell_type": "code",
   "execution_count": 353,
   "id": "fddb4a2c-c41d-4008-9c78-82594c2ec271",
   "metadata": {},
   "outputs": [
    {
     "data": {
      "text/plain": [
       "['/dev/ttyACM7', '/dev/ttyACM3']"
      ]
     },
     "execution_count": 353,
     "metadata": {},
     "output_type": "execute_result"
    }
   ],
   "source": [
    "import pypot.dynamixel\n",
    "\n",
    "ports = pypot.dynamixel.get_available_ports()\n",
    "print(ports)"
   ]
  },
  {
   "cell_type": "code",
   "execution_count": 337,
   "id": "74536aaf-bc2a-4490-ae42-ee544018148d",
   "metadata": {},
   "outputs": [],
   "source": [
    "if not ports:\n",
    "    raise IOError(\"No ports found!\")\n"
   ]
  },
  {
   "cell_type": "code",
   "execution_count": 363,
   "id": "3f03602d-936a-4e1e-9f48-7716a76dccbb",
   "metadata": {},
   "outputs": [],
   "source": [
    "l_io = pypot.dynamixel.DxlIO(ports[0])"
   ]
  },
  {
   "cell_type": "code",
   "execution_count": 339,
   "metadata": {},
   "outputs": [],
   "source": [
    "r_io = pypot.dynamixel.DxlIO(ports[1])"
   ]
  },
  {
   "cell_type": "code",
   "execution_count": 364,
   "metadata": {},
   "outputs": [],
   "source": [
    "lefts = l_io.scan()"
   ]
  },
  {
   "cell_type": "code",
   "execution_count": 365,
   "metadata": {},
   "outputs": [
    {
     "name": "stdout",
     "output_type": "stream",
     "text": [
      "[51, 52, 53, 54, 253]\n"
     ]
    }
   ],
   "source": [
    "print(lefts)"
   ]
  },
  {
   "cell_type": "code",
   "execution_count": 324,
   "metadata": {},
   "outputs": [],
   "source": [
    "rights = r_io.scan()"
   ]
  },
  {
   "cell_type": "code",
   "execution_count": 325,
   "metadata": {},
   "outputs": [
    {
     "name": "stdout",
     "output_type": "stream",
     "text": [
      "[33, 34, 35, 41, 42, 43, 44, 253]\n"
     ]
    }
   ],
   "source": [
    "print(rights)"
   ]
  },
  {
   "cell_type": "code",
   "execution_count": 366,
   "metadata": {},
   "outputs": [],
   "source": [
    "l_io.set_moving_speed(dict(zip(lefts, len(lefts)*[10])))"
   ]
  },
  {
   "cell_type": "code",
   "execution_count": 326,
   "metadata": {},
   "outputs": [],
   "source": [
    "r_io.set_moving_speed(dict(zip(rights, len(rights) * [10])))"
   ]
  },
  {
   "cell_type": "code",
   "execution_count": 367,
   "metadata": {},
   "outputs": [],
   "source": [
    "l_io.set_goal_position(dict(zip(lefts, len(lefts)*[0])))"
   ]
  },
  {
   "cell_type": "code",
   "execution_count": 332,
   "metadata": {},
   "outputs": [],
   "source": [
    "r_io.set_goal_position(dict(zip(rights, len(rights) * [0])))"
   ]
  }
 ],
 "metadata": {
  "kernelspec": {
   "display_name": "Python 3 (ipykernel)",
   "language": "python",
   "name": "python3"
  },
  "language_info": {
   "codemirror_mode": {
    "name": "ipython",
    "version": 3
   },
   "file_extension": ".py",
   "mimetype": "text/x-python",
   "name": "python",
   "nbconvert_exporter": "python",
   "pygments_lexer": "ipython3",
   "version": "3.10.12"
  }
 },
 "nbformat": 4,
 "nbformat_minor": 5
}
