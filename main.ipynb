{
 "cells": [
  {
   "cell_type": "markdown",
   "metadata": {},
   "source": [
    "## Setup"
   ]
  },
  {
   "cell_type": "code",
   "execution_count": 4,
   "id": "fddb4a2c-c41d-4008-9c78-82594c2ec271",
   "metadata": {},
   "outputs": [
    {
     "name": "stdout",
     "output_type": "stream",
     "text": [
      "[]\n"
     ]
    },
    {
     "ename": "OSError",
     "evalue": "No ports found!",
     "output_type": "error",
     "traceback": [
      "\u001b[0;31m---------------------------------------------------------------------------\u001b[0m",
      "\u001b[0;31mOSError\u001b[0m                                   Traceback (most recent call last)",
      "\u001b[1;32m/home/polaris/DualArmControl/main.ipynb Cell 2\u001b[0m line \u001b[0;36m7\n\u001b[1;32m      <a href='vscode-notebook-cell:/home/polaris/DualArmControl/main.ipynb#W1sZmlsZQ%3D%3D?line=3'>4</a>\u001b[0m \u001b[39mprint\u001b[39m(ports)\n\u001b[1;32m      <a href='vscode-notebook-cell:/home/polaris/DualArmControl/main.ipynb#W1sZmlsZQ%3D%3D?line=5'>6</a>\u001b[0m \u001b[39mif\u001b[39;00m \u001b[39mnot\u001b[39;00m ports:\n\u001b[0;32m----> <a href='vscode-notebook-cell:/home/polaris/DualArmControl/main.ipynb#W1sZmlsZQ%3D%3D?line=6'>7</a>\u001b[0m     \u001b[39mraise\u001b[39;00m \u001b[39mIOError\u001b[39;00m(\u001b[39m\"\u001b[39m\u001b[39mNo ports found!\u001b[39m\u001b[39m\"\u001b[39m)\n\u001b[1;32m      <a href='vscode-notebook-cell:/home/polaris/DualArmControl/main.ipynb#W1sZmlsZQ%3D%3D?line=8'>9</a>\u001b[0m \u001b[39m# l_io = pypot.dynamixel.DxlIO(ports[0])\u001b[39;00m\n\u001b[1;32m     <a href='vscode-notebook-cell:/home/polaris/DualArmControl/main.ipynb#W1sZmlsZQ%3D%3D?line=9'>10</a>\u001b[0m r_io \u001b[39m=\u001b[39m pypot\u001b[39m.\u001b[39mdynamixel\u001b[39m.\u001b[39mDxlIO(ports[\u001b[39m0\u001b[39m])\n",
      "\u001b[0;31mOSError\u001b[0m: No ports found!"
     ]
    }
   ],
   "source": [
    "import pypot.dynamixel\n",
    "\n",
    "ports = pypot.dynamixel.get_available_ports()\n",
    "print(ports)\n",
    "\n",
    "if not ports:\n",
    "    raise IOError(\"No ports found!\")\n",
    "\n",
    "# l_io = pypot.dynamixel.DxlIO(ports[0])\n",
    "r_io = pypot.dynamixel.DxlIO(ports[0])\n",
    "\n",
    "# lefts = l_io.scan()\n",
    "\n",
    "# print(lefts)\n",
    "\n",
    "rights = r_io.scan()\n",
    "\n",
    "print(rights)"
   ]
  },
  {
   "cell_type": "code",
   "execution_count": null,
   "metadata": {},
   "outputs": [],
   "source": [
    "## Zero Right arm\n",
    "# r = [51, 52, 53, 54]\n",
    "# if 51 in lefts:\n",
    "#     l_io.set_moving_speed(dict(zip(r, len(r) * [10])))\n",
    "#     l_io.set_goal_position(dict(zip(r, len(r) * [0])))\n",
    "# else:\n",
    "#     r_io.set_moving_speed(dict(zip(r, len(r) * [10])))\n",
    "#     r_io.set_goal_position(dict(zip(r, len(r) * [0])))\n",
    "\n",
    "r_io.set_moving_speed(dict(zip(rights, len(rights) * [10])))\n",
    "r_io.set_goal_position(dict(zip(rights, len(rights) * [0])))"
   ]
  },
  {
   "cell_type": "markdown",
   "metadata": {},
   "source": [
    "## CCD Algorithm"
   ]
  },
  {
   "cell_type": "code",
   "execution_count": null,
   "metadata": {},
   "outputs": [],
   "source": [
    "from math import *\n",
    "class Vector:\n",
    "    def __init__(self, _x, _y, _z):\n",
    "        self.x = _x\n",
    "        self.y = _y\n",
    "        self.z = _z\n",
    "\n",
    "    def sub(self, v):\n",
    "        self.x -= v.x\n",
    "        self.y -= v.y\n",
    "        self.z -= v.z\n",
    "\n",
    "    def mag(self):\n",
    "        return sqrt(self.x ** 2 + self.y ** 2 + self.z ** 2)\n",
    "    \n",
    "    def dot(self, p):\n",
    "        return self.x * p.x + self.y * p.y + self.z * p.z\n",
    "\n",
    "    def angle(self, p):\n",
    "        return acos(self.dot(p) / (self.mag() * p.mag()))\n"
   ]
  },
  {
   "cell_type": "code",
   "execution_count": null,
   "metadata": {},
   "outputs": [
    {
     "ename": "TypeError",
     "evalue": "Vector.__init__() missing 3 required positional arguments: '_x', '_y', and '_z'",
     "output_type": "error",
     "traceback": [
      "\u001b[0;31m---------------------------------------------------------------------------\u001b[0m",
      "\u001b[0;31mTypeError\u001b[0m                                 Traceback (most recent call last)",
      "\u001b[1;32m/home/polaris/DualArmControl/main.ipynb Cell 6\u001b[0m line \u001b[0;36m4\n\u001b[1;32m      <a href='vscode-notebook-cell:/home/polaris/DualArmControl/main.ipynb#W5sZmlsZQ%3D%3D?line=1'>2</a>\u001b[0m T \u001b[39m=\u001b[39m Vector(\u001b[39m13\u001b[39m, \u001b[39m31\u001b[39m, \u001b[39m55\u001b[39m)\n\u001b[1;32m      <a href='vscode-notebook-cell:/home/polaris/DualArmControl/main.ipynb#W5sZmlsZQ%3D%3D?line=2'>3</a>\u001b[0m E \u001b[39m=\u001b[39m Vector(\u001b[39m13\u001b[39m, \u001b[39m20\u001b[39m, \u001b[39m55\u001b[39m)\n\u001b[0;32m----> <a href='vscode-notebook-cell:/home/polaris/DualArmControl/main.ipynb#W5sZmlsZQ%3D%3D?line=3'>4</a>\u001b[0m O \u001b[39m=\u001b[39m [Vector(), Vector(), Vector(), Vector()]\n\u001b[1;32m      <a href='vscode-notebook-cell:/home/polaris/DualArmControl/main.ipynb#W5sZmlsZQ%3D%3D?line=4'>5</a>\u001b[0m t_i \u001b[39m=\u001b[39m [T\u001b[39m.\u001b[39msub(a) \u001b[39mfor\u001b[39;00m a \u001b[39min\u001b[39;00m O]\n\u001b[1;32m      <a href='vscode-notebook-cell:/home/polaris/DualArmControl/main.ipynb#W5sZmlsZQ%3D%3D?line=5'>6</a>\u001b[0m e_i \u001b[39m=\u001b[39m [E\u001b[39m.\u001b[39msub(a) \u001b[39mfor\u001b[39;00m a \u001b[39min\u001b[39;00m O]\n",
      "\u001b[0;31mTypeError\u001b[0m: Vector.__init__() missing 3 required positional arguments: '_x', '_y', and '_z'"
     ]
    }
   ],
   "source": [
    "from math import *\n",
    "T = Vector(13, 31, 55)\n",
    "E = Vector(13, 20, 55)\n",
    "O = [Vector(), Vector(), Vector(), Vector()]\n",
    "t_i = [T.sub(a) for a in O]\n",
    "e_i = [E.sub(a) for a in O]\n",
    "alpha_i = [a.angle(b) for (a,b) in zip(t_i, e_i)]\n",
    "orig = 4 * [0]"
   ]
  },
  {
   "cell_type": "code",
   "execution_count": null,
   "metadata": {},
   "outputs": [],
   "source": [
    "n=10\n",
    "for r in range(n):\n",
    "    for i in range(3,-1,-1):\n",
    "        alpha_i[i] = e_i[i].angle(t_i[i])\n",
    "        r_io.set_goal_position({(51+i):(orig[i]+alpha_i[i])})\n",
    "        orig[i]=orig[i]+alpha_i[i]"
   ]
  }
 ],
 "metadata": {
  "kernelspec": {
   "display_name": "Python 3 (ipykernel)",
   "language": "python",
   "name": "python3"
  },
  "language_info": {
   "codemirror_mode": {
    "name": "ipython",
    "version": 3
   },
   "file_extension": ".py",
   "mimetype": "text/x-python",
   "name": "python",
   "nbconvert_exporter": "python",
   "pygments_lexer": "ipython3",
   "version": "3.10.12"
  }
 },
 "nbformat": 4,
 "nbformat_minor": 5
}
