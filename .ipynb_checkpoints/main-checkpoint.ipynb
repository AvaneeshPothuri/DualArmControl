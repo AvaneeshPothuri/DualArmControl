{
 "cells": [
  {
   "cell_type": "code",
   "execution_count": null,
   "id": "aabe14e9-2215-46c3-8d54-f0c9aa0086d4",
   "metadata": {},
   "outputs": [],
   "source": [
    "## Import Poppy"
   ]
  },
  {
   "cell_type": "code",
   "execution_count": 1,
   "id": "fddb4a2c-c41d-4008-9c78-82594c2ec271",
   "metadata": {},
   "outputs": [],
   "source": [
    "from pypot.creatures import PoppyHumanoid\n",
    "\n",
    "poppy = PoppyHumanoid(simulator='vrep')"
   ]
  },
  {
   "cell_type": "code",
   "execution_count": null,
   "id": "74536aaf-bc2a-4490-ae42-ee544018148d",
   "metadata": {},
   "outputs": [],
   "source": [
    "## Motor Movement"
   ]
  },
  {
   "cell_type": "code",
   "execution_count": 16,
   "id": "3f03602d-936a-4e1e-9f48-7716a76dccbb",
   "metadata": {},
   "outputs": [
    {
     "data": {
      "text/plain": [
       "[<DxlMotor name=l_elbow_y id=44 pos=-0.1>,\n",
       " <DxlMotor name=r_hip_y id=23 pos=0.0>,\n",
       " <DxlMotor name=r_knee_y id=24 pos=0.0>,\n",
       " <DxlMotor name=head_y id=37 pos=-2.0>,\n",
       " <DxlMotor name=r_ankle_y id=25 pos=0.1>,\n",
       " <DxlMotor name=r_arm_z id=53 pos=-0.0>,\n",
       " <DxlMotor name=head_z id=36 pos=-0.0>,\n",
       " <DxlMotor name=r_shoulder_x id=52 pos=-1.0999999999999943>,\n",
       " <DxlMotor name=r_shoulder_y id=51 pos=0.0>,\n",
       " <DxlMotor name=r_hip_z id=22 pos=-0.0>,\n",
       " <DxlMotor name=r_hip_x id=21 pos=0.4>,\n",
       " <DxlMotor name=r_elbow_y id=54 pos=0.0>,\n",
       " <DxlMotor name=l_arm_z id=43 pos=-0.2>,\n",
       " <DxlMotor name=l_hip_x id=11 pos=-0.2>,\n",
       " <DxlMotor name=l_hip_y id=13 pos=-2.0>,\n",
       " <DxlMotor name=l_hip_z id=12 pos=0.1>,\n",
       " <DxlMotor name=abs_x id=32 pos=0.0>,\n",
       " <DxlMotor name=abs_y id=31 pos=0.1>,\n",
       " <DxlMotor name=abs_z id=33 pos=0.0>,\n",
       " <DxlMotor name=l_ankle_y id=15 pos=-0.0>,\n",
       " <DxlMotor name=bust_y id=34 pos=0.0>,\n",
       " <DxlMotor name=bust_x id=35 pos=0.0>,\n",
       " <DxlMotor name=l_knee_y id=14 pos=0.0>,\n",
       " <DxlMotor name=l_shoulder_x id=42 pos=-19.900000000000006>,\n",
       " <DxlMotor name=l_shoulder_y id=41 pos=-7.5>]"
      ]
     },
     "execution_count": 16,
     "metadata": {},
     "output_type": "execute_result"
    }
   ],
   "source": [
    "poppy.motors"
   ]
  },
  {
   "cell_type": "code",
   "execution_count": 17,
   "id": "bfd7543d-2922-4208-87ce-564fb7adecba",
   "metadata": {},
   "outputs": [
    {
     "data": {
      "text/plain": [
       "<DxlMotor name=l_shoulder_y id=41 pos=-7.5>"
      ]
     },
     "execution_count": 17,
     "metadata": {},
     "output_type": "execute_result"
    }
   ],
   "source": [
    "poppy.l_shoulder_y"
   ]
  },
  {
   "cell_type": "code",
   "execution_count": 18,
   "id": "d2a405e2-80fa-46fc-82e0-f3153306ad71",
   "metadata": {},
   "outputs": [],
   "source": [
    "poppy.head_z.goal_position = 0"
   ]
  },
  {
   "cell_type": "code",
   "execution_count": 19,
   "id": "cc59fee6-deec-420d-af51-f7aa0959cabd",
   "metadata": {},
   "outputs": [],
   "source": [
    "for m in poppy.l_arm:\n",
    "    m.goal_position = 0"
   ]
  },
  {
   "cell_type": "code",
   "execution_count": null,
   "id": "b4f97e53-3d82-45e1-b90b-65d059c32c49",
   "metadata": {},
   "outputs": [],
   "source": [
    "## Step 1"
   ]
  },
  {
   "cell_type": "code",
   "execution_count": null,
   "id": "2d8d158e-8c13-48ac-9cff-3ca7a33d9578",
   "metadata": {},
   "outputs": [],
   "source": [
    "def forward_kinematics():\n",
    "    return []"
   ]
  }
 ],
 "metadata": {
  "kernelspec": {
   "display_name": "Python 3 (ipykernel)",
   "language": "python",
   "name": "python3"
  },
  "language_info": {
   "codemirror_mode": {
    "name": "ipython",
    "version": 3
   },
   "file_extension": ".py",
   "mimetype": "text/x-python",
   "name": "python",
   "nbconvert_exporter": "python",
   "pygments_lexer": "ipython3",
   "version": "3.10.12"
  }
 },
 "nbformat": 4,
 "nbformat_minor": 5
}
