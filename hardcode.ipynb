{
 "cells": [
  {
   "cell_type": "code",
   "execution_count": null,
   "metadata": {},
   "outputs": [],
   "source": [
    "import pypot.dynamixel\n",
    "\n",
    "ports = pypot.dynamixel.get_available_ports()\n",
    "print(ports)\n",
    "\n",
    "if not ports:\n",
    "    raise IOError(\"No ports found!\")\n",
    "\n",
    "l_io = pypot.dynamixel.DxlIO(ports[0])\n",
    "\n",
    "r_io = pypot.dynamixel.DxlIO(ports[1])\n",
    "\n",
    "lefts = l_io.scan()\n",
    "\n",
    "print(lefts)\n",
    "\n",
    "rights = r_io.scan()\n",
    "\n",
    "print(rights)\n",
    "\n",
    "l_io.set_moving_speed(dict(zip(lefts, len(lefts) * [10])))\n",
    "\n",
    "r_io.set_moving_speed(dict(zip(rights, len(rights) * [10])))\n",
    "\n",
    "l_io.set_goal_position(dict(zip(lefts, len(lefts) * [0])))\n",
    "\n",
    "r_io.set_goal_position(dict(zip(rights, len(rights) * [0])))"
   ]
  },
  {
   "cell_type": "code",
   "execution_count": null,
   "metadata": {},
   "outputs": [],
   "source": [
    "if 51 in lefts:\n",
    "    l_io, r_io = r_io, l_io\n",
    "\n",
    "left_motors = [41, 42, 43, 44]\n",
    "right_motors = [51, 52, 53, 54]\n",
    "left_goal = [90, 0, 0, 0]\n",
    "right_goal = [90, 0, 0, 0]\n",
    "l_io.set_goal_position(dict(zip(left_motors,left_goal)))\n",
    "r_io.set_goal_position(dict(zip(right_motors,right_goal)))"
   ]
  }
 ],
 "metadata": {
  "language_info": {
   "name": "python"
  }
 },
 "nbformat": 4,
 "nbformat_minor": 2
}
