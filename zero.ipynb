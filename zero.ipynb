{
 "cells": [
  {
   "cell_type": "code",
   "execution_count": 7,
   "metadata": {},
   "outputs": [
    {
     "name": "stderr",
     "output_type": "stream",
     "text": [
      "WARNING:root:Another instance of pypot is using the port /dev/ttyACM3. This might be an issue in Jupyter Notebook, in that case restart the kernel.\n",
      "WARNING:root:Another instance of pypot is using the port /dev/ttyACM2. This might be an issue in Jupyter Notebook, in that case restart the kernel.\n"
     ]
    },
    {
     "name": "stdout",
     "output_type": "stream",
     "text": [
      "['/dev/ttyACM3', '/dev/ttyACM2']\n",
      "[1, 35, 41, 42, 43, 44, 51, 253]\n",
      "[51, 52, 53, 54, 253]\n"
     ]
    }
   ],
   "source": [
    "import pypot.dynamixel\n",
    "\n",
    "ports = pypot.dynamixel.get_available_ports()\n",
    "print(ports)\n",
    "\n",
    "if not ports:\n",
    "    raise IOError(\"No ports found!\")\n",
    "\n",
    "l_io = pypot.dynamixel.DxlIO(ports[0])\n",
    "\n",
    "r_io = pypot.dynamixel.DxlIO(ports[1])\n",
    "\n",
    "lefts = l_io.scan()\n",
    "\n",
    "print(lefts)\n",
    "\n",
    "rights = r_io.scan()\n",
    "\n",
    "print(rights)\n",
    "\n",
    "l_io.set_moving_speed(dict(zip(lefts, len(lefts) * [10])))\n",
    "\n",
    "r_io.set_moving_speed(dict(zip(rights, len(rights) * [10])))\n",
    "\n",
    "l_io.set_goal_position(dict(zip(lefts, len(lefts) * [0])))\n",
    "\n",
    "r_io.set_goal_position(dict(zip(rights, len(rights) * [0])))"
   ]
  }
 ],
 "metadata": {
  "kernelspec": {
   "display_name": "Python 3",
   "language": "python",
   "name": "python3"
  },
  "language_info": {
   "codemirror_mode": {
    "name": "ipython",
    "version": 3
   },
   "file_extension": ".py",
   "mimetype": "text/x-python",
   "name": "python",
   "nbconvert_exporter": "python",
   "pygments_lexer": "ipython3",
   "version": "3.10.12"
  }
 },
 "nbformat": 4,
 "nbformat_minor": 2
}
